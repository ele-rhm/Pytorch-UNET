{
 "cells": [
  {
   "cell_type": "code",
   "execution_count": 1,
   "id": "722bb350",
   "metadata": {},
   "outputs": [],
   "source": [
    "import torch \n",
    "import torch.nn as nn\n"
   ]
  },
  {
   "cell_type": "code",
   "execution_count": 24,
   "id": "06e92c2e",
   "metadata": {},
   "outputs": [
    {
     "name": "stdout",
     "output_type": "stream",
     "text": [
      "torch.Size([1, 2, 388, 388])\n",
      "None\n"
     ]
    }
   ],
   "source": [
    "    \n",
    "def double_conv(in_c, out_c):\n",
    "    \n",
    "    convolution = nn.Sequential(nn.Conv2d(in_c,out_c,kernel_size=3),\n",
    "                        nn.ReLU(inplace=True),\n",
    "                        nn.Conv2d(out_c,out_c, kernel_size=3),\n",
    "                        nn.ReLU(inplace=True))\n",
    "    return convolution\n",
    "\n",
    "def crop_image(tensor,target_tensor):\n",
    "    \n",
    "    target_size = target_tensor.size()[2]\n",
    "    tensor_size = tensor.size()[2]\n",
    "    delta = tensor_size - target_size\n",
    "    delta = delta//2\n",
    "    return tensor[:,:,delta:tensor_size-delta,delta:tensor_size-delta]\n",
    "    \n",
    "    \n",
    "class U_NET(nn.Module):\n",
    "    def __init__(self):\n",
    "        super(U_NET, self).__init__()\n",
    "        \n",
    "        self.maxpool2x2 = nn.MaxPool2d(kernel_size=2, stride=2)\n",
    "        self.downconv1 = double_conv(1,64)\n",
    "        self.downconv2 = double_conv(64,128)\n",
    "        self.downconv3 = double_conv(128,256)\n",
    "        self.downconv4 = double_conv(256,512)\n",
    "        self.downconv5 = double_conv(512,1024)\n",
    "        \n",
    "        self.uptrans1 = nn.ConvTranspose2d(in_channels=1024, out_channels=512, kernel_size=2, stride=2)\n",
    "        self.upconv1 = double_conv(1024,512)\n",
    "        \n",
    "        self.uptrans2 = nn.ConvTranspose2d(in_channels=512, out_channels=256, kernel_size=2, stride=2)\n",
    "        self.upconv2 = double_conv(512,256)\n",
    "        \n",
    "        self.uptrans3 = nn.ConvTranspose2d(in_channels=256, out_channels=128, kernel_size=2, stride=2)\n",
    "        self.upconv3 = double_conv(256,128)\n",
    "        \n",
    "        self.uptrans4 = nn.ConvTranspose2d(in_channels=128, out_channels=64, kernel_size=2, stride=2)\n",
    "        self.upconv4 = double_conv(128,64)\n",
    "        \n",
    "        self.out = nn.Conv2d(in_channels=64,out_channels=2, kernel_size=1)\n",
    "              \n",
    "        \n",
    "        \n",
    "    def forward(self, x):\n",
    "\n",
    "        x1 = self.downconv1(x)\n",
    "        x2 = self.maxpool2x2(x1)\n",
    "        x3 = self.downconv2(x2)\n",
    "        x4 = self.maxpool2x2(x3)  \n",
    "        x5 = self.downconv3(x4)\n",
    "        x6 = self.maxpool2x2(x5)    \n",
    "        x7 = self.downconv4(x6)\n",
    "        x8 = self.maxpool2x2(x7)    \n",
    "        x9 = self.downconv5(x8)\n",
    "        \n",
    "        x = self.uptrans1(x9)\n",
    "        y = crop_image(x7,x)\n",
    "        x = self.upconv1(torch.cat([x,y],1))\n",
    "        \n",
    "        x = self.uptrans2(x)\n",
    "        y = crop_image(x5,x)\n",
    "        x = self.upconv2(torch.cat([x,y],1))\n",
    "        \n",
    "        x = self.uptrans3(x)\n",
    "        y = crop_image(x3,x)\n",
    "        x = self.upconv3(torch.cat([x,y],1))\n",
    "        \n",
    "        x = self.uptrans4(x)\n",
    "        y = crop_image(x1,x)\n",
    "        x = self.upconv4(torch.cat([x,y],1))\n",
    "        \n",
    "        x = self.out(x)\n",
    "        print(x.size())\n",
    "        \n",
    "if __name__ == \"__main__\":\n",
    "    \n",
    "    image = torch.rand((1,1,572,572))\n",
    "    model = U_NET()\n",
    "    print(model(image))"
   ]
  },
  {
   "cell_type": "code",
   "execution_count": null,
   "id": "e8490ad2",
   "metadata": {},
   "outputs": [],
   "source": []
  }
 ],
 "metadata": {
  "kernelspec": {
   "display_name": "Python 3.8 (tensorflow)",
   "language": "python",
   "name": "tensorflow"
  },
  "language_info": {
   "codemirror_mode": {
    "name": "ipython",
    "version": 3
   },
   "file_extension": ".py",
   "mimetype": "text/x-python",
   "name": "python",
   "nbconvert_exporter": "python",
   "pygments_lexer": "ipython3",
   "version": "3.8.10"
  }
 },
 "nbformat": 4,
 "nbformat_minor": 5
}
